{
 "cells": [
  {
   "cell_type": "code",
   "execution_count": 5,
   "metadata": {},
   "outputs": [],
   "source": [
    "import keras\n",
    "import os\n",
    "os.chdir(\"/userdata/pmavrodi/Projekte/Forschung/word2vec/\")\n",
    "from src.utils import io_utils"
   ]
  },
  {
   "cell_type": "markdown",
   "metadata": {},
   "source": [
    "# Read in the data"
   ]
  },
  {
   "cell_type": "code",
   "execution_count": 6,
   "metadata": {},
   "outputs": [],
   "source": [
    "# products\n",
    "products = io_utils.load_json('data_migros/products_original.json')\n",
    "articles = io_utils.load_json('data_migros/articles_analyzed.json')"
   ]
  },
  {
   "cell_type": "code",
   "execution_count": 15,
   "metadata": {},
   "outputs": [
    {
     "data": {
      "text/plain": [
       "{'text': 'Randvoll mit\\nWasser füllen,\\nverschliessen, mit der durchlässigen\\nTonspitze in\\ndie Erde stecken, Ansaugschlauch in\\ndas volle Wassergefäss\\ntauchen, Versorgt wochenlang\\nIhre Pflanze\\n«nach Mass».',\n",
       " 'source': 'PEX'}"
      ]
     },
     "execution_count": 15,
     "metadata": {},
     "output_type": "execute_result"
    }
   ],
   "source": [
    "products['630508000000']['description']"
   ]
  },
  {
   "cell_type": "code",
   "execution_count": 7,
   "metadata": {},
   "outputs": [
    {
     "data": {
      "text/plain": [
       "dict"
      ]
     },
     "execution_count": 7,
     "metadata": {},
     "output_type": "execute_result"
    }
   ],
   "source": [
    "type(products)"
   ]
  },
  {
   "cell_type": "code",
   "execution_count": 16,
   "metadata": {},
   "outputs": [
    {
     "data": {
      "text/plain": [
       "110372"
      ]
     },
     "execution_count": 16,
     "metadata": {},
     "output_type": "execute_result"
    }
   ],
   "source": [
    "len(products)"
   ]
  },
  {
   "cell_type": "code",
   "execution_count": 17,
   "metadata": {},
   "outputs": [],
   "source": [
    "# articles\n",
    "articles = io_utils.load_json('data_migros/articles_analyzed.json')\n",
    "# speck id = 4037247"
   ]
  },
  {
   "cell_type": "code",
   "execution_count": 26,
   "metadata": {},
   "outputs": [
    {
     "name": "stdout",
     "output_type": "stream",
     "text": [
      "4037247\n",
      "7012814\n",
      "7012813\n",
      "131048\n",
      "4035225\n"
     ]
    }
   ],
   "source": [
    "for idx, a in enumerate(articles):\n",
    "    if articles[a]['wiki_analyzed_title'] == 'speck':\n",
    "        print(a)"
   ]
  },
  {
   "cell_type": "code",
   "execution_count": 31,
   "metadata": {},
   "outputs": [
    {
     "data": {
      "text/plain": [
       "{'wiki_analyzed_title': 'speck',\n",
       " 'wiki_curid': '131048',\n",
       " 'wiki_analyzed_content': 'speck jahrhundert ahd belegt spec vgl spekk spic anord spik aussergerman lat pinguis fett piar pivas zweifelhaft selt lat spectil bauchspeck schwein fettgeweb bezeichnet haut muskeln befindet hauptsaech rueckenspeck fett speck rein fettgeweb bauchspeck durchwachs speck muskelfleisch durchwachs schweinebauch unterschied schinkenspeck hueft rueck geleg schink hergestellt ausgelo unzerteilt speckparti speckseit speckwamm bezeichnet speck haeufig haut schwein sogenannt schwart handel angebot separat verwendet rueckenspeck europaeisch kuech zutat verwendet spick umhuell mag fleisch herstell schmalz gewuerfelt gewolft gemahl zahlreich wuerst bauchspeck dient teilweis schinkenspeck aufschnitt rueckenspeck roh ungeraeuchert gruen speck bauchspeck gepoekelt geraeuchert getrocknet gegart angebot fruehstuecksspeck bacon gepoekelt geraeuchert rueck bauchspeck anteil darunterlieg fleisch bekannt produkt lardo pancetta salo schwarzwaeld speck suedtirol speck italien speck genannt tirol speck wallis trockenspeck walliserdeutsch schpaekk genannt fettgewebeschicht speck wal robb blubb genannt',\n",
       " 'wiki_title_length': 1}"
      ]
     },
     "execution_count": 31,
     "metadata": {},
     "output_type": "execute_result"
    }
   ],
   "source": [
    "articles['131048']"
   ]
  },
  {
   "cell_type": "code",
   "execution_count": null,
   "metadata": {},
   "outputs": [],
   "source": []
  }
 ],
 "metadata": {
  "kernelspec": {
   "display_name": "Python 3",
   "language": "python",
   "name": "python3"
  },
  "language_info": {
   "codemirror_mode": {
    "name": "ipython",
    "version": 3
   },
   "file_extension": ".py",
   "mimetype": "text/x-python",
   "name": "python",
   "nbconvert_exporter": "python",
   "pygments_lexer": "ipython3",
   "version": "3.6.5"
  },
  "toc": {
   "colors": {
    "hover_highlight": "#DAA520",
    "navigate_num": "#000000",
    "navigate_text": "#333333",
    "running_highlight": "#FF0000",
    "selected_highlight": "#FFD700",
    "sidebar_border": "#EEEEEE",
    "wrapper_background": "#FFFFFF"
   },
   "moveMenuLeft": true,
   "nav_menu": {
    "height": "30px",
    "width": "252px"
   },
   "navigate_menu": true,
   "number_sections": true,
   "sideBar": true,
   "threshold": 4,
   "toc_cell": false,
   "toc_section_display": "block",
   "toc_window_display": false,
   "widenNotebook": false
  }
 },
 "nbformat": 4,
 "nbformat_minor": 1
}
